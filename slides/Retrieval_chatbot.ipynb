{
 "cells": [
  {
   "cell_type": "markdown",
   "metadata": {},
   "source": [
    "Dialogue systems use a variety of mechanisms to carryout informative and coherent conversations withtheir users.   These conversations can be achieved through rule-basd,  template-based, retrieval-based approaches or in a data-driven manner that teaches the agent to learn from raw conversational data. This workshop will focus on the retreival-based method. "
   ]
  },
  {
   "cell_type": "markdown",
   "metadata": {},
   "source": [
    "## Retreival-Based Chatbot\n",
    "A retrieval-based agent or chatbot retrieves related responses from queries in the corpus that are similar to the given query.  We are not interested in generating a new response, but select the most suitable response (originally made to other queries) as reply to the current query. We will be try to do this by having a set of questions with labelled intents and then try to classify the intent."
   ]
  },
  {
   "cell_type": "markdown",
   "metadata": {},
   "source": [
    "### Accessing Colab\n",
    "\n",
    "- Sign in to you Google account.\n",
    "- Access the [Colab Welcome Page](https://colab.research.google.com/notebooks/welcome.ipynb#recent=true) and click on ‘Github’. In the ‘Enter a GitHub URL or search by organization or user’ line enter `https://github.com/bespoke-inc/bespoke-public-talks`. We will be using the notebook in folder `2020/2020-08-22-MLT-Rules-to-DL`\n",
    "- You need to tell Colab that you are interested in using a GPU. You can do this by clicking on the `Runtime` tab and selecting `Change runtime type`. A pop-up window will appear. Select `GPU` from the menu and `Save`.\n",
    "- Save your work to Google Drive by clicking on ‘File’ and then ‘Save’ and then `SAVE A COPY IN DRIVE.` in the pop-up."
   ]
  },
  {
   "cell_type": "code",
   "execution_count": 1,
   "metadata": {},
   "outputs": [],
   "source": [
    "#install the necessary dependencies by uncommenting and running the following commands:\n",
    "#!wget https://raw.githubusercontent.com/bespoke-inc/bespoke-public-talks/master/2020/2020-08-22-MLT-Rules-to-DL/requirements.txt\n",
    "#!pip install -r requirements.txt"
   ]
  },
  {
   "cell_type": "markdown",
   "metadata": {},
   "source": [
    "### Workshop Task #1: Create a corpus\n",
    "\n",
    "The first task will be making your own training data based on the above format. We will work a small dataset that we've provided and later some publicly available ones but participants are expected to create their own for this part of the workshop"
   ]
  },
  {
   "cell_type": "markdown",
   "metadata": {
    "jp-MarkdownHeadingCollapsed": true,
    "tags": []
   },
   "source": [
    "## Training Data\n",
    "This is a sample format of the training data we want to use:\n",
    "\n",
    "```\n",
    "training_phrases = {\n",
    "        'when_is_check_in' : ['when is check-in','When can I check in?','when's checkin'],\n",
    "        'where_is_the_front_desk' : ['Where is the front desk?','what is the location of the front desk?'...]}\n",
    "}\n",
    "\n",
    "answers : {\n",
    "        'when_is_check_in' : 'Check in is at 3pm! :)',\n",
    "        'where_is_the_front_desk' : 'The front desk is located on the 2nd floor.'}\n",
    "```"
   ]
  },
  {
   "cell_type": "code",
   "execution_count": 1,
   "metadata": {},
   "outputs": [],
   "source": [
    "import pandas as pd\n",
    "import json"
   ]
  },
  {
   "cell_type": "code",
   "execution_count": 3,
   "metadata": {},
   "outputs": [],
   "source": [
    "#get training data\n",
    "#!wget https://raw.githubusercontent.com/bespoke-inc/bespoke-public-talks/master/2020/2020-08-22-MLT-Rules-to-DL/training_sample.json"
   ]
  },
  {
   "cell_type": "code",
   "execution_count": 2,
   "metadata": {},
   "outputs": [],
   "source": [
    "training_data = json.load(open('./training_sample.json','r'))"
   ]
  },
  {
   "cell_type": "code",
   "execution_count": 3,
   "metadata": {},
   "outputs": [
    {
     "data": {
      "text/plain": [
       "['hotel.when_is_check_in',\n",
       " 'hotel.when_is_check_out',\n",
       " 'hotel.is_there_early_check_in',\n",
       " 'hotel.is_there_late_check_out',\n",
       " 'hotel.where_is_the_front_desk_located']"
      ]
     },
     "execution_count": 3,
     "metadata": {},
     "output_type": "execute_result"
    }
   ],
   "source": [
    "list(training_data.keys())"
   ]
  },
  {
   "cell_type": "code",
   "execution_count": 4,
   "metadata": {},
   "outputs": [],
   "source": [
    "answers = {\n",
    "    'hotel.when_is_check_in': 'Check in is at 3pm!',\n",
    "    'hotel.when_is_check_out': 'Check out is at 10am!',\n",
    "    'hotel.is_there_late_check_out': 'For early check-out or late check-in please schedule beforehand',\n",
    "    'hotel.is_there_early_check_in': 'For early check-out or late check-in please schedule beforehand',\n",
    "    'hotel.where_is_the_front_desk_located': 'Front desk is located on the 2nd floor'\n",
    "    }"
   ]
  },
  {
   "cell_type": "code",
   "execution_count": 5,
   "metadata": {},
   "outputs": [],
   "source": [
    "import re"
   ]
  },
  {
   "cell_type": "code",
   "execution_count": 6,
   "metadata": {},
   "outputs": [],
   "source": [
    "punct_re_escape = re.compile('[%s]' % re.escape('!\"#$%&()*+,./:;<=>?@[\\\\]^_`{|}~'))\n",
    "\n",
    "class MyChatbotData:\n",
    "    \n",
    "    def __init__(self, json_obj, text_fld, answers):\n",
    "        dfs = []\n",
    "        for i, (intent, data) in enumerate(json_obj.items()):\n",
    "            # lowercase and remove punctuation\n",
    "            patterns = data[text_fld].copy()\n",
    "            for i, p in enumerate(patterns):\n",
    "                p = p.lower()\n",
    "                p = self.remove_punctuation(p)\n",
    "                patterns[i] = p\n",
    "                answer = answers[intent]\n",
    "            df = pd.DataFrame(list(zip([intent]*len(patterns), patterns, [answer]*len(patterns))), \\\n",
    "                              columns=['intent', 'phrase', 'answer'])\n",
    "            dfs.append(df)\n",
    "        self.df = pd.concat(dfs)\n",
    "    \n",
    "    def get_answer(self, intent):\n",
    "        return pd.unique(self.df[self.df['intent'] == intent]['answer'])[0]\n",
    "    \n",
    "    def remove_punctuation(self, text):\n",
    "        return punct_re_escape.sub('', text)\n",
    "    \n",
    "    def get_phrases(self, intent):\n",
    "        return list(self.df[self.df['intent'] == intent]['phrase'])\n",
    "    \n",
    "    def get_intents(self):\n",
    "        return list(pd.unique(self.df['intent']))\n",
    "    \n",
    "    def show_batch(self, size=5):\n",
    "        return self.df.head(size)\n",
    "    \n",
    "    def __len__(self):\n",
    "        return len(self.df)"
   ]
  },
  {
   "cell_type": "code",
   "execution_count": 7,
   "metadata": {},
   "outputs": [],
   "source": [
    "chatbot_data = MyChatbotData(training_data, 'patterns', answers)"
   ]
  },
  {
   "cell_type": "code",
   "execution_count": 8,
   "metadata": {},
   "outputs": [
    {
     "data": {
      "text/html": [
       "<div>\n",
       "<style scoped>\n",
       "    .dataframe tbody tr th:only-of-type {\n",
       "        vertical-align: middle;\n",
       "    }\n",
       "\n",
       "    .dataframe tbody tr th {\n",
       "        vertical-align: top;\n",
       "    }\n",
       "\n",
       "    .dataframe thead th {\n",
       "        text-align: right;\n",
       "    }\n",
       "</style>\n",
       "<table border=\"1\" class=\"dataframe\">\n",
       "  <thead>\n",
       "    <tr style=\"text-align: right;\">\n",
       "      <th></th>\n",
       "      <th>intent</th>\n",
       "      <th>phrase</th>\n",
       "      <th>answer</th>\n",
       "    </tr>\n",
       "  </thead>\n",
       "  <tbody>\n",
       "    <tr>\n",
       "      <th>0</th>\n",
       "      <td>hotel.when_is_check_in</td>\n",
       "      <td>when is check-in</td>\n",
       "      <td>Check in is at 3pm!</td>\n",
       "    </tr>\n",
       "    <tr>\n",
       "      <th>1</th>\n",
       "      <td>hotel.when_is_check_in</td>\n",
       "      <td>how to check in</td>\n",
       "      <td>Check in is at 3pm!</td>\n",
       "    </tr>\n",
       "    <tr>\n",
       "      <th>2</th>\n",
       "      <td>hotel.when_is_check_in</td>\n",
       "      <td>what time is the latest we can check into the ...</td>\n",
       "      <td>Check in is at 3pm!</td>\n",
       "    </tr>\n",
       "    <tr>\n",
       "      <th>3</th>\n",
       "      <td>hotel.when_is_check_in</td>\n",
       "      <td>what time is check in open till</td>\n",
       "      <td>Check in is at 3pm!</td>\n",
       "    </tr>\n",
       "    <tr>\n",
       "      <th>4</th>\n",
       "      <td>hotel.when_is_check_in</td>\n",
       "      <td>can you advise the check in time</td>\n",
       "      <td>Check in is at 3pm!</td>\n",
       "    </tr>\n",
       "    <tr>\n",
       "      <th>5</th>\n",
       "      <td>hotel.when_is_check_in</td>\n",
       "      <td>what time is check in for new hotel otani toky...</td>\n",
       "      <td>Check in is at 3pm!</td>\n",
       "    </tr>\n",
       "    <tr>\n",
       "      <th>6</th>\n",
       "      <td>hotel.when_is_check_in</td>\n",
       "      <td>late check in</td>\n",
       "      <td>Check in is at 3pm!</td>\n",
       "    </tr>\n",
       "    <tr>\n",
       "      <th>7</th>\n",
       "      <td>hotel.when_is_check_in</td>\n",
       "      <td>can i check in late</td>\n",
       "      <td>Check in is at 3pm!</td>\n",
       "    </tr>\n",
       "    <tr>\n",
       "      <th>8</th>\n",
       "      <td>hotel.when_is_check_in</td>\n",
       "      <td>what about check in</td>\n",
       "      <td>Check in is at 3pm!</td>\n",
       "    </tr>\n",
       "    <tr>\n",
       "      <th>9</th>\n",
       "      <td>hotel.when_is_check_in</td>\n",
       "      <td>im down to check in</td>\n",
       "      <td>Check in is at 3pm!</td>\n",
       "    </tr>\n",
       "  </tbody>\n",
       "</table>\n",
       "</div>"
      ],
      "text/plain": [
       "                   intent                                             phrase  \\\n",
       "0  hotel.when_is_check_in                                   when is check-in   \n",
       "1  hotel.when_is_check_in                                    how to check in   \n",
       "2  hotel.when_is_check_in  what time is the latest we can check into the ...   \n",
       "3  hotel.when_is_check_in                    what time is check in open till   \n",
       "4  hotel.when_is_check_in                   can you advise the check in time   \n",
       "5  hotel.when_is_check_in  what time is check in for new hotel otani toky...   \n",
       "6  hotel.when_is_check_in                                      late check in   \n",
       "7  hotel.when_is_check_in                                can i check in late   \n",
       "8  hotel.when_is_check_in                                what about check in   \n",
       "9  hotel.when_is_check_in                                im down to check in   \n",
       "\n",
       "                answer  \n",
       "0  Check in is at 3pm!  \n",
       "1  Check in is at 3pm!  \n",
       "2  Check in is at 3pm!  \n",
       "3  Check in is at 3pm!  \n",
       "4  Check in is at 3pm!  \n",
       "5  Check in is at 3pm!  \n",
       "6  Check in is at 3pm!  \n",
       "7  Check in is at 3pm!  \n",
       "8  Check in is at 3pm!  \n",
       "9  Check in is at 3pm!  "
      ]
     },
     "execution_count": 8,
     "metadata": {},
     "output_type": "execute_result"
    }
   ],
   "source": [
    "chatbot_data.show_batch(10)"
   ]
  },
  {
   "cell_type": "code",
   "execution_count": 9,
   "metadata": {},
   "outputs": [
    {
     "data": {
      "text/plain": [
       "368"
      ]
     },
     "execution_count": 9,
     "metadata": {},
     "output_type": "execute_result"
    }
   ],
   "source": [
    "len(chatbot_data)"
   ]
  },
  {
   "cell_type": "markdown",
   "metadata": {
    "jp-MarkdownHeadingCollapsed": true,
    "tags": []
   },
   "source": [
    "## Rule-based intent ~~classification~~ matching\n",
    "\n",
    "The simplest approach to find if an query falls into a certain intent is to do some string comparison with our dataset. "
   ]
  },
  {
   "cell_type": "code",
   "execution_count": 10,
   "metadata": {},
   "outputs": [],
   "source": [
    "UNK = \"I don't know\""
   ]
  },
  {
   "cell_type": "code",
   "execution_count": 11,
   "metadata": {},
   "outputs": [],
   "source": [
    "def exact_match(query):\n",
    "    intents = chatbot_data.get_intents()\n",
    "    for i in intents:\n",
    "        phrases = chatbot_data.get_phrases(i)\n",
    "        if query in phrases:\n",
    "            return chatbot_data.get_answer(i)\n",
    "    return UNK"
   ]
  },
  {
   "cell_type": "code",
   "execution_count": 12,
   "metadata": {},
   "outputs": [
    {
     "data": {
      "text/plain": [
       "'For early check-out or late check-in please schedule beforehand'"
      ]
     },
     "execution_count": 12,
     "metadata": {},
     "output_type": "execute_result"
    }
   ],
   "source": [
    "exact_match(\"is there early check-in\")"
   ]
  },
  {
   "cell_type": "code",
   "execution_count": 13,
   "metadata": {
    "scrolled": true
   },
   "outputs": [
    {
     "data": {
      "text/plain": [
       "'Check in is at 3pm!'"
      ]
     },
     "execution_count": 13,
     "metadata": {},
     "output_type": "execute_result"
    }
   ],
   "source": [
    "exact_match(\"when do i check in\")"
   ]
  },
  {
   "cell_type": "code",
   "execution_count": 14,
   "metadata": {},
   "outputs": [
    {
     "data": {
      "text/plain": [
       "\"I don't know\""
      ]
     },
     "execution_count": 14,
     "metadata": {},
     "output_type": "execute_result"
    }
   ],
   "source": [
    "exact_match(\"can i check-in earlier than 12pm\")"
   ]
  },
  {
   "cell_type": "markdown",
   "metadata": {
    "jp-MarkdownHeadingCollapsed": true,
    "tags": []
   },
   "source": [
    "## Preprocessing\n",
    "\n",
    "- CJK\n",
    "- normalize contractions\n",
    "- remove hyphens\n",
    "- remove stopwords\n",
    "- check for typos\n",
    "- normalize plurals\n",
    "- normalize ascii\n",
    "- normalize emojis\n",
    "- remove punctuation\n",
    "\n"
   ]
  },
  {
   "cell_type": "code",
   "execution_count": 12,
   "metadata": {},
   "outputs": [],
   "source": [
    "import re\n",
    "\n",
    "EMOJIS = [[':)', '😀'],[';)', '😉'],[':(', '😞'],[';((', '😢'],[':p', '😛']]\n",
    "_emoji_re = '[\\U00010000-\\U0010ffff]+'\n",
    "emoji_re = re.compile(_emoji_re, flags=re.UNICODE)\n",
    "\n",
    "def emoji_normalize(text):\n",
    "    for e1, e2 in EMOJIS:\n",
    "        text = text.replace(e1, e2)\n",
    "    return text\n",
    "\n",
    "def is_emoji(text):\n",
    "    emoji = \"\".join(re.findall(_emoji_re, text))\n",
    "    return emoji == text\n",
    "\n",
    "def emoji_isolate(text):\n",
    "    EMJ = \"__EMOJI__\"\n",
    "    emoji_list = re.findall(_emoji_re, text)\n",
    "    text = emoji_re.sub(f\" {EMJ} \", text)\n",
    "    new_str, ctr = [], 0\n",
    "    for tok in text.split():\n",
    "        if tok == EMJ:\n",
    "            new_str.append(emoji_list[ctr])\n",
    "            ctr += 1\n",
    "        else:\n",
    "            new_str.append(tok)\n",
    "    return \" \".join(new_str).strip()"
   ]
  },
  {
   "cell_type": "code",
   "execution_count": 13,
   "metadata": {},
   "outputs": [],
   "source": [
    "import unicodedata\n",
    "\n",
    "def ascii_normalize(text):\n",
    "    return unicodedata.normalize('NFKD', text).encode('ascii', 'ignore').decode(\"utf-8\") "
   ]
  },
  {
   "cell_type": "code",
   "execution_count": 14,
   "metadata": {},
   "outputs": [],
   "source": [
    "punct_re_escape = re.compile('[%s]' % re.escape('!\"#$%&()*+,./:;<=>?@[\\\\]^_`{|}~'))\n",
    "\n",
    "def remove_punctuation(text):\n",
    "    punct_re_escape.sub('', text)"
   ]
  },
  {
   "cell_type": "code",
   "execution_count": 15,
   "metadata": {},
   "outputs": [],
   "source": [
    "def preprocess(text):\n",
    "    text = ascii_normalize(text) or text\n",
    "    text = emoji_normalize(text) or text\n",
    "    text = emoji_isolate(text) or text\n",
    "    text = remove_punctuation(text) or text\n",
    "    return text"
   ]
  },
  {
   "cell_type": "markdown",
   "metadata": {},
   "source": [
    "### Workshop Task #2: Further preprocessing steps\n",
    "Add other types of preprocessing relevant to the dataset you created. It could be from any of the ones listed above"
   ]
  },
  {
   "cell_type": "markdown",
   "metadata": {},
   "source": [
    "### Partial String Matching\n",
    "Instead of checking is the entire query string exists in our dataset, we try to find a partial match\n",
    "and pick the intent that matches most closely. We will try to do this with using Levenshtein Distance \n",
    "to calculate the differences between sequences. The library [fuzzywuzzy](https://github.com/seatgeek/fuzzywuzzy)\n",
    "can help us do this"
   ]
  },
  {
   "cell_type": "code",
   "execution_count": 16,
   "metadata": {},
   "outputs": [],
   "source": [
    "from fuzzywuzzy import process"
   ]
  },
  {
   "cell_type": "code",
   "execution_count": 17,
   "metadata": {},
   "outputs": [],
   "source": [
    "def fuzzy_matching(query):\n",
    "    intents = chatbot_data.get_intents()\n",
    "    for i in intents:\n",
    "        phrases = chatbot_data.get_phrases(i)\n",
    "        match, score = process.extractOne(query, phrases)\n",
    "        if score > 90:\n",
    "            return chatbot_data.get_answer(i)\n",
    "    return UNK"
   ]
  },
  {
   "cell_type": "code",
   "execution_count": 21,
   "metadata": {},
   "outputs": [
    {
     "data": {
      "text/plain": [
       "'Check in is at 3pm!'"
      ]
     },
     "execution_count": 21,
     "metadata": {},
     "output_type": "execute_result"
    }
   ],
   "source": [
    "fuzzy_matching(\"when do i check-in\")"
   ]
  },
  {
   "cell_type": "code",
   "execution_count": 22,
   "metadata": {},
   "outputs": [
    {
     "data": {
      "text/plain": [
       "'For early check-out or late check-in please schedule beforehand'"
      ]
     },
     "execution_count": 22,
     "metadata": {},
     "output_type": "execute_result"
    }
   ],
   "source": [
    "fuzzy_matching(\"can i check-in earlier than 12pm\")"
   ]
  },
  {
   "cell_type": "code",
   "execution_count": 23,
   "metadata": {},
   "outputs": [
    {
     "data": {
      "text/plain": [
       "'Check in is at 3pm!'"
      ]
     },
     "execution_count": 23,
     "metadata": {},
     "output_type": "execute_result"
    }
   ],
   "source": [
    "fuzzy_matching(\"what time is early check-in\")"
   ]
  },
  {
   "cell_type": "markdown",
   "metadata": {
    "jp-MarkdownHeadingCollapsed": true,
    "tags": []
   },
   "source": [
    "## ML Classification\n",
    "We will now add a probabilistic classifier to our set of methods to get better intent classification.\n",
    "The algorithm we will use is [naive bayes](https://scikit-learn.org/stable/modules/naive_bayes.html)\n",
    "\n",
    "Naive Bayes classifiers works quite well for small amount of training data."
   ]
  },
  {
   "cell_type": "markdown",
   "metadata": {},
   "source": [
    "### Tokenizer\n",
    "Before we feed it to our model for training we need to tokenize our training instances"
   ]
  },
  {
   "cell_type": "code",
   "execution_count": 18,
   "metadata": {},
   "outputs": [],
   "source": [
    "import spacy"
   ]
  },
  {
   "cell_type": "code",
   "execution_count": 19,
   "metadata": {},
   "outputs": [],
   "source": [
    "nlp = spacy.load('en_core_web_sm',parse=False,tagger=False)"
   ]
  },
  {
   "cell_type": "code",
   "execution_count": 26,
   "metadata": {},
   "outputs": [
    {
     "data": {
      "text/plain": [
       "['when', 'can', 'i', 'check', 'in', '?']"
      ]
     },
     "execution_count": 26,
     "metadata": {},
     "output_type": "execute_result"
    }
   ],
   "source": [
    "doc = nlp(\"when can i check in?\")\n",
    "[tok.text for tok in doc]"
   ]
  },
  {
   "cell_type": "code",
   "execution_count": 27,
   "metadata": {},
   "outputs": [
    {
     "data": {
      "text/plain": [
       "['when', 'can', 'i', 'check', '-', 'in', '?']"
      ]
     },
     "execution_count": 27,
     "metadata": {},
     "output_type": "execute_result"
    }
   ],
   "source": [
    "doc = nlp(\"when can i check-in?\")\n",
    "[tok.text for tok in doc]"
   ]
  },
  {
   "cell_type": "code",
   "execution_count": 28,
   "metadata": {},
   "outputs": [
    {
     "data": {
      "text/plain": [
       "['i', 'did', \"n't\"]"
      ]
     },
     "execution_count": 28,
     "metadata": {},
     "output_type": "execute_result"
    }
   ],
   "source": [
    "doc = nlp(\"i didn't\")\n",
    "[tok.text for tok in doc]"
   ]
  },
  {
   "cell_type": "code",
   "execution_count": 29,
   "metadata": {},
   "outputs": [
    {
     "data": {
      "text/plain": [
       "['thank', 'you', 'ありがとう']"
      ]
     },
     "execution_count": 29,
     "metadata": {},
     "output_type": "execute_result"
    }
   ],
   "source": [
    "doc = nlp(\"thank you ありがとう\")\n",
    "[tok.text for tok in doc]"
   ]
  },
  {
   "cell_type": "code",
   "execution_count": 30,
   "metadata": {},
   "outputs": [
    {
     "data": {
      "text/plain": [
       "['did', \"n't\", 'could', \"n't\"]"
      ]
     },
     "execution_count": 30,
     "metadata": {},
     "output_type": "execute_result"
    }
   ],
   "source": [
    "doc = nlp(\"didn't    couldn't   \")\n",
    "[tok.text for tok in doc if tok.text.strip()]"
   ]
  },
  {
   "cell_type": "code",
   "execution_count": 26,
   "metadata": {},
   "outputs": [
    {
     "name": "stderr",
     "output_type": "stream",
     "text": [
      "[nltk_data] Downloading package stopwords to\n",
      "[nltk_data]     /Users/asirsaeed/nltk_data...\n",
      "[nltk_data]   Package stopwords is already up-to-date!\n"
     ]
    },
    {
     "data": {
      "text/plain": [
       "True"
      ]
     },
     "execution_count": 26,
     "metadata": {},
     "output_type": "execute_result"
    }
   ],
   "source": [
    "import nltk\n",
    "nltk.download('stopwords')"
   ]
  },
  {
   "cell_type": "code",
   "execution_count": 20,
   "metadata": {},
   "outputs": [],
   "source": [
    "from nltk.corpus import stopwords\n",
    "stopwords = set(stopwords.words('english'))"
   ]
  },
  {
   "cell_type": "code",
   "execution_count": 21,
   "metadata": {},
   "outputs": [],
   "source": [
    "def tokenize_nd_join(text):\n",
    "    doc = nlp(text.lower())\n",
    "    return \" \".join(tok.text for tok in doc if tok.text.strip() not in stopwords)"
   ]
  },
  {
   "cell_type": "code",
   "execution_count": 22,
   "metadata": {},
   "outputs": [],
   "source": [
    "def get_xs_ys(train_data):\n",
    "    x, y = [], []\n",
    "    intents = chatbot_data.get_intents()\n",
    "    for i in intents:\n",
    "        phrases = chatbot_data.get_phrases(i)\n",
    "        x += [tokenize_nd_join(phrase) for phrase in phrases]\n",
    "        y += [i]*len(phrases)\n",
    "    return x, y"
   ]
  },
  {
   "cell_type": "code",
   "execution_count": 23,
   "metadata": {},
   "outputs": [],
   "source": [
    "from sklearn.naive_bayes import ComplementNB\n",
    "from sklearn.pipeline import Pipeline\n",
    "from sklearn.feature_extraction.text import CountVectorizer, TfidfVectorizer"
   ]
  },
  {
   "cell_type": "code",
   "execution_count": 24,
   "metadata": {},
   "outputs": [],
   "source": [
    "def train(x,y):\n",
    "    vect = CountVectorizer(ngram_range=(1,2),max_features=None)\n",
    "    nb = Pipeline([('vect',vect),('clf',ComplementNB(alpha=1.0,norm=False))])\n",
    "    nb.fit(x,y)\n",
    "    return nb"
   ]
  },
  {
   "cell_type": "code",
   "execution_count": 27,
   "metadata": {},
   "outputs": [],
   "source": [
    "x, y = get_xs_ys(training_data)\n",
    "nb_model = train(x, y)"
   ]
  },
  {
   "cell_type": "code",
   "execution_count": 28,
   "metadata": {},
   "outputs": [],
   "source": [
    "def nb_pred(query):\n",
    "    tokenized_query = tokenize_nd_join(query)\n",
    "    pred = nb_model.predict([tokenized_query])[0]\n",
    "    return chatbot_data.get_answer(pred)"
   ]
  },
  {
   "cell_type": "code",
   "execution_count": 29,
   "metadata": {},
   "outputs": [
    {
     "data": {
      "text/plain": [
       "'For early check-out or late check-in please schedule beforehand'"
      ]
     },
     "execution_count": 29,
     "metadata": {},
     "output_type": "execute_result"
    }
   ],
   "source": [
    "nb_pred(\"what time is early check-in\")"
   ]
  },
  {
   "cell_type": "code",
   "execution_count": 30,
   "metadata": {},
   "outputs": [],
   "source": [
    "import numpy as np"
   ]
  },
  {
   "cell_type": "code",
   "execution_count": 31,
   "metadata": {},
   "outputs": [],
   "source": [
    "def nb_pred_top3(query):\n",
    "    tokenized_query = tokenize_nd_join(query)\n",
    "    pred_prob = nb_model.predict_proba([tokenized_query])\n",
    "    preds_sorted = np.argsort(pred_prob)\n",
    "    top3 = preds_sorted[:,-1],preds_sorted[:,-2],preds_sorted[:,-2]\n",
    "    if pred_prob[0,top3[0]] > (pred_prob[0,top3[1]] + pred_prob[0,top3[2]]):\n",
    "        pred = nb_model.named_steps['clf'].classes_[top3[0]][0]\n",
    "        return chatbot_data.get_answer(pred)\n",
    "    return UNK\n",
    "    "
   ]
  },
  {
   "cell_type": "code",
   "execution_count": 41,
   "metadata": {},
   "outputs": [
    {
     "data": {
      "text/plain": [
       "'For early check-out or late check-in please schedule beforehand'"
      ]
     },
     "execution_count": 41,
     "metadata": {},
     "output_type": "execute_result"
    }
   ],
   "source": [
    "nb_pred_top3(\"is there early check-in\")"
   ]
  },
  {
   "cell_type": "markdown",
   "metadata": {
    "jp-MarkdownHeadingCollapsed": true,
    "tags": []
   },
   "source": [
    "## Intent Classification Pipeline"
   ]
  },
  {
   "cell_type": "code",
   "execution_count": 32,
   "metadata": {},
   "outputs": [],
   "source": [
    "def get_pred(query):\n",
    "    query = query.lower()\n",
    "    pred = exact_match(query)\n",
    "    if pred == UNK: pred = exact_match(preprocess(query))\n",
    "    if pred == UNK: pred = nb_pred_top3(query)\n",
    "    if pred == UNK: pred = nb_pred_top3(preprocess(query))\n",
    "    if pred == UNK: pred = fuzzy_matching(query)\n",
    "    if pred == UNK: pred = fuzzy_matching(preprocess(query))\n",
    "    return pred"
   ]
  },
  {
   "cell_type": "code",
   "execution_count": 43,
   "metadata": {},
   "outputs": [
    {
     "data": {
      "text/plain": [
       "'Check in is at 3pm!'"
      ]
     },
     "execution_count": 43,
     "metadata": {},
     "output_type": "execute_result"
    }
   ],
   "source": [
    "get_pred(\"when is check-in\")"
   ]
  },
  {
   "cell_type": "code",
   "execution_count": 44,
   "metadata": {},
   "outputs": [
    {
     "data": {
      "text/plain": [
       "'For early check-out or late check-in please schedule beforehand'"
      ]
     },
     "execution_count": 44,
     "metadata": {},
     "output_type": "execute_result"
    }
   ],
   "source": [
    "get_pred(\"can i check-out late?\")"
   ]
  },
  {
   "cell_type": "code",
   "execution_count": 45,
   "metadata": {},
   "outputs": [
    {
     "data": {
      "text/plain": [
       "'Front desk is located on the 2nd floor'"
      ]
     },
     "execution_count": 45,
     "metadata": {},
     "output_type": "execute_result"
    }
   ],
   "source": [
    "get_pred(\"where can i find the front desk?\")"
   ]
  },
  {
   "cell_type": "markdown",
   "metadata": {},
   "source": [
    "### Moving ML to DL\n",
    "We see that this pipeline using some rules and a probabilistic model are working quite well.\n",
    "However, it doesn't scale with data and requires adding a lot of preprocessing and nuances to get working properly\n",
    "\n",
    "Pros:\n",
    "- There are noticeable improvement in using NNs over the current probabilistic model.\n",
    "- Model can scale with data i.e it can improve as we add more annotated training data\n",
    "- This can be a good point to move to NNs, since we are reaching the limits of rule based systems e.g fewer engineered features\n",
    "- Simplified pipeline\n",
    "\n",
    "Cons:\n",
    "- Huge gains cannot be seen until the data is cleaned. \n",
    "- In its current state, the model will either be the same or slightly better than the current approach.\n",
    "- Infrastructure changes"
   ]
  },
  {
   "cell_type": "markdown",
   "metadata": {
    "jp-MarkdownHeadingCollapsed": true,
    "tags": []
   },
   "source": [
    "## Classification with Distil Bert"
   ]
  },
  {
   "cell_type": "code",
   "execution_count": 33,
   "metadata": {},
   "outputs": [],
   "source": [
    "from fastai import *\n",
    "from fastai.text import *"
   ]
  },
  {
   "cell_type": "code",
   "execution_count": 34,
   "metadata": {},
   "outputs": [],
   "source": [
    "answers = {\n",
    "    'hotel.when_is_check_in': 'Check in is at 3pm!',\n",
    "    'hotel.when_is_check_out': 'Check out is at 10am!',\n",
    "    'hotel.is_there_late_check_out': 'For early check-out or late check-in please schedule beforehand',\n",
    "    'hotel.is_there_early_check_in': 'For early check-out or late check-in please schedule beforehand',\n",
    "    'hotel.where_is_the_front_desk_located': 'Front desk is located on the 2nd floor'\n",
    "    }"
   ]
  },
  {
   "cell_type": "code",
   "execution_count": 35,
   "metadata": {},
   "outputs": [],
   "source": [
    "class MyChatbotData:\n",
    "    \n",
    "    def __init__(self, json_obj, text_fld, answers):\n",
    "        dfs = []\n",
    "        for i, (intent, data) in enumerate(json_obj.items()):\n",
    "            # lowercase and remove punctuation\n",
    "            patterns = data[text_fld].copy()\n",
    "            for i, p in enumerate(patterns):\n",
    "                p = p.lower()\n",
    "                p = self.remove_punctuation(p)\n",
    "                patterns[i] = p\n",
    "                answer = answers[intent]\n",
    "            df = pd.DataFrame(list(zip([intent]*len(patterns), patterns, [answer]*len(patterns))), \\\n",
    "                              columns=['intent', 'phrase', 'answer'])\n",
    "            dfs.append(df)\n",
    "        self.df = pd.concat(dfs)\n",
    "    \n",
    "    def get_answer(self, intent):\n",
    "        return pd.unique(self.df[self.df['intent'] == intent]['answer'])[0]\n",
    "    \n",
    "    def remove_punctuation(self, text):\n",
    "        return punct_re_escape.sub('', text)\n",
    "    \n",
    "    def get_phrases(self, intent):\n",
    "        return list(self.df[self.df['intent'] == intent]['phrase'])\n",
    "    \n",
    "    def get_intents(self):\n",
    "        return list(pd.unique(self.df['intent']))\n",
    "    \n",
    "    def show_batch(self, size=5):\n",
    "        return self.df.head(size)\n",
    "    \n",
    "    def __len__(self):\n",
    "        return len(self.df)"
   ]
  },
  {
   "cell_type": "code",
   "execution_count": 36,
   "metadata": {},
   "outputs": [],
   "source": [
    "training_data = json.load(open('./training_sample.json','r'))"
   ]
  },
  {
   "cell_type": "code",
   "execution_count": 37,
   "metadata": {},
   "outputs": [
    {
     "data": {
      "text/plain": [
       "['hotel.when_is_check_in',\n",
       " 'hotel.when_is_check_out',\n",
       " 'hotel.is_there_early_check_in',\n",
       " 'hotel.is_there_late_check_out',\n",
       " 'hotel.where_is_the_front_desk_located']"
      ]
     },
     "execution_count": 37,
     "metadata": {},
     "output_type": "execute_result"
    }
   ],
   "source": [
    "list(training_data.keys())"
   ]
  },
  {
   "cell_type": "code",
   "execution_count": 38,
   "metadata": {},
   "outputs": [],
   "source": [
    "chatbot_data = MyChatbotData(training_data, 'patterns', answers)"
   ]
  },
  {
   "cell_type": "code",
   "execution_count": 39,
   "metadata": {},
   "outputs": [
    {
     "data": {
      "text/html": [
       "<div>\n",
       "<style scoped>\n",
       "    .dataframe tbody tr th:only-of-type {\n",
       "        vertical-align: middle;\n",
       "    }\n",
       "\n",
       "    .dataframe tbody tr th {\n",
       "        vertical-align: top;\n",
       "    }\n",
       "\n",
       "    .dataframe thead th {\n",
       "        text-align: right;\n",
       "    }\n",
       "</style>\n",
       "<table border=\"1\" class=\"dataframe\">\n",
       "  <thead>\n",
       "    <tr style=\"text-align: right;\">\n",
       "      <th></th>\n",
       "      <th>intent</th>\n",
       "      <th>phrase</th>\n",
       "      <th>answer</th>\n",
       "    </tr>\n",
       "  </thead>\n",
       "  <tbody>\n",
       "    <tr>\n",
       "      <th>0</th>\n",
       "      <td>hotel.when_is_check_in</td>\n",
       "      <td>when is check-in</td>\n",
       "      <td>Check in is at 3pm!</td>\n",
       "    </tr>\n",
       "    <tr>\n",
       "      <th>1</th>\n",
       "      <td>hotel.when_is_check_in</td>\n",
       "      <td>how to check in</td>\n",
       "      <td>Check in is at 3pm!</td>\n",
       "    </tr>\n",
       "    <tr>\n",
       "      <th>2</th>\n",
       "      <td>hotel.when_is_check_in</td>\n",
       "      <td>what time is the latest we can check into the ...</td>\n",
       "      <td>Check in is at 3pm!</td>\n",
       "    </tr>\n",
       "    <tr>\n",
       "      <th>3</th>\n",
       "      <td>hotel.when_is_check_in</td>\n",
       "      <td>what time is check in open till</td>\n",
       "      <td>Check in is at 3pm!</td>\n",
       "    </tr>\n",
       "    <tr>\n",
       "      <th>4</th>\n",
       "      <td>hotel.when_is_check_in</td>\n",
       "      <td>can you advise the check in time</td>\n",
       "      <td>Check in is at 3pm!</td>\n",
       "    </tr>\n",
       "  </tbody>\n",
       "</table>\n",
       "</div>"
      ],
      "text/plain": [
       "                   intent                                             phrase  \\\n",
       "0  hotel.when_is_check_in                                   when is check-in   \n",
       "1  hotel.when_is_check_in                                    how to check in   \n",
       "2  hotel.when_is_check_in  what time is the latest we can check into the ...   \n",
       "3  hotel.when_is_check_in                    what time is check in open till   \n",
       "4  hotel.when_is_check_in                   can you advise the check in time   \n",
       "\n",
       "                answer  \n",
       "0  Check in is at 3pm!  \n",
       "1  Check in is at 3pm!  \n",
       "2  Check in is at 3pm!  \n",
       "3  Check in is at 3pm!  \n",
       "4  Check in is at 3pm!  "
      ]
     },
     "execution_count": 39,
     "metadata": {},
     "output_type": "execute_result"
    }
   ],
   "source": [
    "df = chatbot_data.df\n",
    "df.head()"
   ]
  },
  {
   "cell_type": "markdown",
   "metadata": {},
   "source": [
    "Since the sample dataset may be bit too small for this part of the workshop we will be using a public one\n",
    "from [here](https://www.kaggle.com/hassanamin/atis-airlinetravelinformationsystem/data)"
   ]
  },
  {
   "cell_type": "code",
   "execution_count": 50,
   "metadata": {},
   "outputs": [
    {
     "data": {
      "text/html": [
       "<div>\n",
       "<style scoped>\n",
       "    .dataframe tbody tr th:only-of-type {\n",
       "        vertical-align: middle;\n",
       "    }\n",
       "\n",
       "    .dataframe tbody tr th {\n",
       "        vertical-align: top;\n",
       "    }\n",
       "\n",
       "    .dataframe thead th {\n",
       "        text-align: right;\n",
       "    }\n",
       "</style>\n",
       "<table border=\"1\" class=\"dataframe\">\n",
       "  <thead>\n",
       "    <tr style=\"text-align: right;\">\n",
       "      <th></th>\n",
       "      <th>intent</th>\n",
       "      <th>phrase</th>\n",
       "    </tr>\n",
       "  </thead>\n",
       "  <tbody>\n",
       "    <tr>\n",
       "      <th>0</th>\n",
       "      <td>atis_flight</td>\n",
       "      <td>what flights are available from pittsburgh to...</td>\n",
       "    </tr>\n",
       "    <tr>\n",
       "      <th>1</th>\n",
       "      <td>atis_flight_time</td>\n",
       "      <td>what is the arrival time in san francisco for...</td>\n",
       "    </tr>\n",
       "    <tr>\n",
       "      <th>2</th>\n",
       "      <td>atis_airfare</td>\n",
       "      <td>cheapest airfare from tacoma to orlando</td>\n",
       "    </tr>\n",
       "    <tr>\n",
       "      <th>3</th>\n",
       "      <td>atis_airfare</td>\n",
       "      <td>round trip fares from pittsburgh to philadelp...</td>\n",
       "    </tr>\n",
       "    <tr>\n",
       "      <th>4</th>\n",
       "      <td>atis_flight</td>\n",
       "      <td>i need a flight tomorrow from columbus to min...</td>\n",
       "    </tr>\n",
       "  </tbody>\n",
       "</table>\n",
       "</div>"
      ],
      "text/plain": [
       "             intent                                             phrase\n",
       "0       atis_flight   what flights are available from pittsburgh to...\n",
       "1  atis_flight_time   what is the arrival time in san francisco for...\n",
       "2      atis_airfare            cheapest airfare from tacoma to orlando\n",
       "3      atis_airfare   round trip fares from pittsburgh to philadelp...\n",
       "4       atis_flight   i need a flight tomorrow from columbus to min..."
      ]
     },
     "execution_count": 50,
     "metadata": {},
     "output_type": "execute_result"
    }
   ],
   "source": [
    "df = pd.read_csv(\"284285_585165_bundle_archive/atis_intents.csv\",header=0,names=['intent', 'phrase'])\n",
    "df.head()"
   ]
  },
  {
   "cell_type": "code",
   "execution_count": 51,
   "metadata": {},
   "outputs": [
    {
     "data": {
      "text/plain": [
       "(22, 4977)"
      ]
     },
     "execution_count": 51,
     "metadata": {},
     "output_type": "execute_result"
    }
   ],
   "source": [
    "len(set(df['intent'])), len(df)"
   ]
  },
  {
   "cell_type": "code",
   "execution_count": 52,
   "metadata": {},
   "outputs": [],
   "source": [
    "path = Path('./')"
   ]
  },
  {
   "cell_type": "markdown",
   "metadata": {},
   "source": [
    "Adapting fastai code for training transformers was inspired from this [blog post](https://towardsdatascience.com/fastai-with-transformers-bert-roberta-xlnet-xlm-distilbert-4f41ee18ecb2)"
   ]
  },
  {
   "cell_type": "code",
   "execution_count": 40,
   "metadata": {},
   "outputs": [],
   "source": [
    "from transformers import DistilBertForSequenceClassification, DistilBertTokenizer, DistilBertConfig\n",
    "from transformers import PreTrainedTokenizer"
   ]
  },
  {
   "cell_type": "code",
   "execution_count": 41,
   "metadata": {},
   "outputs": [],
   "source": [
    "class TransformersBaseTokenizer(BaseTokenizer):\n",
    "    def __init__(self, pretrained_tokenizer: PreTrainedTokenizer, model_type = 'bert', **kwargs):\n",
    "        self._pretrained_tokenizer = pretrained_tokenizer\n",
    "        self.max_seq_len = pretrained_tokenizer.max_len\n",
    "        self.model_type = model_type\n",
    "\n",
    "    def __call__(self, *args, **kwargs): \n",
    "        return self\n",
    "\n",
    "    def tokenizer(self, t:str) -> List[str]:\n",
    "        CLS = self._pretrained_tokenizer.cls_token\n",
    "        SEP = self._pretrained_tokenizer.sep_token\n",
    "        tokens = [CLS] + self._pretrained_tokenizer.tokenize(t)[:self.max_seq_len - 2] + [SEP]\n",
    "        return tokens"
   ]
  },
  {
   "cell_type": "code",
   "execution_count": 42,
   "metadata": {},
   "outputs": [],
   "source": [
    "transformer_tokenizer = DistilBertTokenizer.from_pretrained('distilbert-base-uncased')\n",
    "transformer_base_tokenizer = TransformersBaseTokenizer(pretrained_tokenizer = transformer_tokenizer, model_type = model_type)\n",
    "fastai_tokenizer = Tokenizer(tok_func = transformer_base_tokenizer, pre_rules=[], post_rules=[])"
   ]
  },
  {
   "cell_type": "code",
   "execution_count": 43,
   "metadata": {},
   "outputs": [],
   "source": [
    "class TransformersVocab(Vocab):\n",
    "    def __init__(self, tokenizer: PreTrainedTokenizer):\n",
    "        super(TransformersVocab, self).__init__(itos = [])\n",
    "        self.tokenizer = tokenizer\n",
    "    \n",
    "    def numericalize(self, t:Collection[str]) -> List[int]:\n",
    "        \"Convert a list of tokens `t` to their ids.\"\n",
    "        return self.tokenizer.convert_tokens_to_ids(t)\n",
    "\n",
    "    def textify(self, nums:Collection[int], sep=' ') -> List[str]:\n",
    "        \"Convert a list of `nums` to their tokens.\"\n",
    "        nums = np.array(nums).tolist()\n",
    "        return sep.join(self.tokenizer.convert_ids_to_tokens(nums)) if sep is not None else self.tokenizer.convert_ids_to_tokens(nums)\n",
    "        \n",
    "    def __getstate__(self):\n",
    "        return {'itos':self.itos, 'tokenizer':self.tokenizer}\n",
    "\n",
    "    def __setstate__(self, state:dict):\n",
    "        self.itos = state['itos']\n",
    "        self.tokenizer = state['tokenizer']\n",
    "        self.stoi = collections.defaultdict(int,{v:k for k,v in enumerate(self.itos)})"
   ]
  },
  {
   "cell_type": "code",
   "execution_count": 44,
   "metadata": {},
   "outputs": [],
   "source": [
    "transformer_vocab =  TransformersVocab(tokenizer = transformer_tokenizer)\n",
    "numericalize_processor = NumericalizeProcessor(vocab=transformer_vocab)\n",
    "\n",
    "tokenize_processor = TokenizeProcessor(tokenizer=fastai_tokenizer, \n",
    "                                       include_bos=False, \n",
    "                                       include_eos=False)\n",
    "\n",
    "transformer_processor = [tokenize_processor, numericalize_processor]"
   ]
  },
  {
   "cell_type": "code",
   "execution_count": 45,
   "metadata": {},
   "outputs": [
    {
     "data": {
      "text/html": [],
      "text/plain": [
       "<IPython.core.display.HTML object>"
      ]
     },
     "metadata": {},
     "output_type": "display_data"
    },
    {
     "data": {
      "text/html": [],
      "text/plain": [
       "<IPython.core.display.HTML object>"
      ]
     },
     "metadata": {},
     "output_type": "display_data"
    }
   ],
   "source": [
    "pad_idx = transformer_tokenizer.pad_token_id\n",
    "\n",
    "databunch = (TextList.from_df(df, cols='phrase', processor=transformer_processor)\n",
    "             .split_by_rand_pct()\n",
    "             .label_from_df(cols= 'intent')\n",
    "             .databunch(bs=64, pad_first=False, pad_idx=pad_idx))"
   ]
  },
  {
   "cell_type": "code",
   "execution_count": 46,
   "metadata": {},
   "outputs": [],
   "source": [
    "class TransformerModel(nn.Module):\n",
    "  \n",
    "    def __init__(self, transformer):\n",
    "        super(TransformerModel,self).__init__()\n",
    "        self.transformer = transformer\n",
    "        \n",
    "    def forward(self, input_ids):\n",
    "        # Return only the logits from the transfomer\n",
    "        logits = self.transformer(input_ids)[0]   \n",
    "        return logits"
   ]
  },
  {
   "cell_type": "code",
   "execution_count": 47,
   "metadata": {},
   "outputs": [],
   "source": [
    "config = DistilBertConfig.from_pretrained('distilbert-base-uncased')\n",
    "config.num_labels = databunch.train_ds.c\n",
    "\n",
    "distil_bert = DistilBertForSequenceClassification.from_pretrained('distilbert-base-uncased', config=config)\n",
    "transformer_model = TransformerModel(distil_bert)"
   ]
  },
  {
   "cell_type": "code",
   "execution_count": 48,
   "metadata": {},
   "outputs": [],
   "source": [
    "from transformers import AdamW\n",
    "from functools import partial\n",
    "\n",
    "CustomAdamW = partial(AdamW, correct_bias=False)\n",
    "\n",
    "learn = Learner(databunch, transformer_model, opt_func = CustomAdamW, metrics=[accuracy])"
   ]
  },
  {
   "cell_type": "code",
   "execution_count": 49,
   "metadata": {},
   "outputs": [],
   "source": [
    "\n",
    "list_layers = [learn.model.transformer.base_model.embeddings,\n",
    "               learn.model.transformer.base_model.transformer.layer[0],\n",
    "               learn.model.transformer.base_model.transformer.layer[1],\n",
    "               learn.model.transformer.base_model.transformer.layer[2],\n",
    "               learn.model.transformer.base_model.transformer.layer[3],\n",
    "               learn.model.transformer.base_model.transformer.layer[4],\n",
    "               learn.model.transformer.base_model.transformer.layer[5],\n",
    "               learn.model.transformer.pre_classifier,\n",
    "               learn.model.transformer.classifier]\n",
    "               \n",
    "learn.split(list_layers);"
   ]
  },
  {
   "cell_type": "code",
   "execution_count": 50,
   "metadata": {},
   "outputs": [],
   "source": [
    "learn.freeze_to(-2)"
   ]
  },
  {
   "cell_type": "code",
   "execution_count": 65,
   "metadata": {
    "scrolled": true
   },
   "outputs": [
    {
     "data": {
      "text/html": [
       "\n",
       "    <div>\n",
       "        <style>\n",
       "            /* Turns off some styling */\n",
       "            progress {\n",
       "                /* gets rid of default border in Firefox and Opera. */\n",
       "                border: none;\n",
       "                /* Needs to be in here for Safari polyfill so background images work as expected. */\n",
       "                background-size: auto;\n",
       "            }\n",
       "            .progress-bar-interrupted, .progress-bar-interrupted::-webkit-progress-bar {\n",
       "                background: #F44336;\n",
       "            }\n",
       "        </style>\n",
       "      <progress value='1' class='' max='2', style='width:300px; height:20px; vertical-align: middle;'></progress>\n",
       "      50.00% [1/2 02:18<02:18]\n",
       "    </div>\n",
       "    \n",
       "<table border=\"1\" class=\"dataframe\">\n",
       "  <thead>\n",
       "    <tr style=\"text-align: left;\">\n",
       "      <th>epoch</th>\n",
       "      <th>train_loss</th>\n",
       "      <th>valid_loss</th>\n",
       "      <th>accuracy</th>\n",
       "      <th>time</th>\n",
       "    </tr>\n",
       "  </thead>\n",
       "  <tbody>\n",
       "    <tr>\n",
       "      <td>0</td>\n",
       "      <td>2.009273</td>\n",
       "      <td>#na#</td>\n",
       "      <td>02:18</td>\n",
       "    </tr>\n",
       "  </tbody>\n",
       "</table><p>\n",
       "\n",
       "    <div>\n",
       "        <style>\n",
       "            /* Turns off some styling */\n",
       "            progress {\n",
       "                /* gets rid of default border in Firefox and Opera. */\n",
       "                border: none;\n",
       "                /* Needs to be in here for Safari polyfill so background images work as expected. */\n",
       "                background-size: auto;\n",
       "            }\n",
       "            .progress-bar-interrupted, .progress-bar-interrupted::-webkit-progress-bar {\n",
       "                background: #F44336;\n",
       "            }\n",
       "        </style>\n",
       "      <progress value='17' class='' max='62', style='width:300px; height:20px; vertical-align: middle;'></progress>\n",
       "      27.42% [17/62 01:56<05:07 6.1479]\n",
       "    </div>\n",
       "    "
      ],
      "text/plain": [
       "<IPython.core.display.HTML object>"
      ]
     },
     "metadata": {},
     "output_type": "display_data"
    },
    {
     "name": "stdout",
     "output_type": "stream",
     "text": [
      "LR Finder is complete, type {learner_name}.recorder.plot() to see the graph.\n"
     ]
    },
    {
     "data": {
      "image/png": "[encoded data removed]",
      "text/plain": [
       "<Figure size 432x288 with 1 Axes>"
      ]
     },
     "metadata": {
      "needs_background": "light"
     },
     "output_type": "display_data"
    }
   ],
   "source": [
    "learn.lr_find()\n",
    "learn.recorder.plot(skip_end=15)"
   ]
  },
  {
   "cell_type": "code",
   "execution_count": null,
   "metadata": {},
   "outputs": [],
   "source": [
    "learn.fit_one_cycle(3,max_lr=1e-3,moms=(0.8,0.7))"
   ]
  },
  {
   "cell_type": "code",
   "execution_count": null,
   "metadata": {},
   "outputs": [],
   "source": [
    "learn.freeze_to(-3)\n",
    "learn.fit_one_cycle(2, slice(8e-4/(2.6**4),8e-4), moms=(0.8,0.7))"
   ]
  },
  {
   "cell_type": "code",
   "execution_count": null,
   "metadata": {},
   "outputs": [],
   "source": [
    "learn.freeze_to(-5)\n",
    "learn.fit_one_cycle(2, slice(5e-4/(2.6**4),5e-4), moms=(0.8,0.7))"
   ]
  },
  {
   "cell_type": "code",
   "execution_count": null,
   "metadata": {},
   "outputs": [],
   "source": [
    "learn.freeze_to(-8)\n",
    "learn.fit_one_cycle(2, slice(3e-4/(2.6**4),3e-4), moms=(0.8,0.7))"
   ]
  },
  {
   "cell_type": "code",
   "execution_count": null,
   "metadata": {},
   "outputs": [],
   "source": [
    "learn.unfreeze()\n",
    "learn.fit_one_cycle(5, slice(1e-4/(2.6**4),1e-4), moms=(0.8,0.7))"
   ]
  },
  {
   "cell_type": "code",
   "execution_count": 125,
   "metadata": {},
   "outputs": [],
   "source": [
    "learn.predict(\"what flights are available from pittsburgh to baltimore\")"
   ]
  },
  {
   "cell_type": "code",
   "execution_count": null,
   "metadata": {},
   "outputs": [],
   "source": [
    "interp = TextClassificationInterpretation(learn,*learn.get_preds(with_loss=True))"
   ]
  },
  {
   "cell_type": "code",
   "execution_count": null,
   "metadata": {},
   "outputs": [],
   "source": [
    "interp.show_top_losses(20)"
   ]
  },
  {
   "cell_type": "markdown",
   "metadata": {},
   "source": [
    "### Workshop Task 3: Using Named Entity Recognition to extract parameters (10 min)\n",
    "Generalizing your training data with entity classes\n",
    "Add named entities to one intent and use spaCy to extract"
   ]
  },
  {
   "cell_type": "code",
   "execution_count": 51,
   "metadata": {},
   "outputs": [],
   "source": [
    "class ParameterModel():\n",
    "    \n",
    "    def __init__(self, param_list):\n",
    "        self.parameters = param_list\n",
    "        self.label_ = 'PARAM'\n",
    "    \n",
    "    def replace_entities(self, text):\n",
    "        \"\"\"Replace entities in the text with their respective labels\"\"\"\n",
    "        entity_replaced_text = text\n",
    "        for p in self.parameters:\n",
    "            if p in text:\n",
    "                entity_replaced_text = text.replace(p, f'<__{self.label_}__>')\n",
    "        return entity_replaced_text"
   ]
  },
  {
   "cell_type": "code",
   "execution_count": 52,
   "metadata": {},
   "outputs": [],
   "source": [
    "food_list = ['japanese','indian','thai','chinese','fast food','bbq','cafe']\n",
    "food_param_model = ParameterModel(food_list) "
   ]
  },
  {
   "cell_type": "code",
   "execution_count": 53,
   "metadata": {},
   "outputs": [
    {
     "data": {
      "text/plain": [
       "'I want <__PARAM__>'"
      ]
     },
     "execution_count": 53,
     "metadata": {},
     "output_type": "execute_result"
    }
   ],
   "source": [
    "food_param_model.replace_entities(\"I want fast food\")"
   ]
  },
  {
   "cell_type": "code",
   "execution_count": 54,
   "metadata": {},
   "outputs": [],
   "source": [
    "MODEL_NAME = 'en_core_web_md'\n",
    "\n",
    "class SpacyModel(object):\n",
    "    spacy_model = None  # Where we keep the model when it's loaded\n",
    "\n",
    "    @classmethod\n",
    "    def get_base_spacy_model(cls):\n",
    "        \"\"\"Get the base spacy model\"\"\"\n",
    "        if not cls.spacy_model:\n",
    "            cls.spacy_model = spacy.load(MODEL_NAME)\n",
    "        return cls.spacy_model\n",
    "    \n",
    "    @classmethod\n",
    "    def replace_entities(cls, text):\n",
    "        \"\"\"Replace entities in the text with their respective labels\"\"\"\n",
    "        spacy_model = cls.get_base_spacy_model()\n",
    "        doc = spacy_model(text)\n",
    "        entity_replaced_text = text\n",
    "        for e in reversed(doc.ents):\n",
    "            start = e.start_char\n",
    "            end = start + len(e.text)\n",
    "            entity_replaced_text = entity_replaced_text[:start] + f'<__{e.label_}__>' + entity_replaced_text[end:]\n",
    "        return entity_replaced_text"
   ]
  },
  {
   "cell_type": "code",
   "execution_count": 55,
   "metadata": {},
   "outputs": [
    {
     "data": {
      "text/plain": [
       "'how do i get to <__GPE__>'"
      ]
     },
     "execution_count": 55,
     "metadata": {},
     "output_type": "execute_result"
    }
   ],
   "source": [
    "SpacyModel.replace_entities(\"how do i get to shibuya\")"
   ]
  },
  {
   "cell_type": "code",
   "execution_count": 56,
   "metadata": {},
   "outputs": [
    {
     "data": {
      "text/plain": [
       "'can i get a reservation for <__DATE__>'"
      ]
     },
     "execution_count": 56,
     "metadata": {},
     "output_type": "execute_result"
    }
   ],
   "source": [
    "SpacyModel.replace_entities(\"can i get a reservation for Sunday\")"
   ]
  },
  {
   "cell_type": "markdown",
   "metadata": {},
   "source": [
    "### Workshop Task 4: Using users to disambiguate intents (10 min)\n",
    "When two intents are good candidates for the user's text, instead of picking the best, ask the user which they meant.\n",
    "Add disambiguation ability in your bot"
   ]
  },
  {
   "cell_type": "markdown",
   "metadata": {},
   "source": [
    "### Workshop Task 5: Typos (10 min)\n",
    "Since users are typing in their text, errors are common. Hence, the bot must be resilient to typos\n",
    "Add typo correction in your bot"
   ]
  },
  {
   "cell_type": "markdown",
   "metadata": {
    "jp-MarkdownHeadingCollapsed": true,
    "tags": []
   },
   "source": [
    "## Putting it all together"
   ]
  },
  {
   "cell_type": "code",
   "execution_count": 57,
   "metadata": {},
   "outputs": [],
   "source": [
    "def replace_entities(text):\n",
    "    entity_replaced = SpacyModel.replace_entities(text)\n",
    "    entity_replaced = food_param_model.replace_entities(entity_replaced)\n",
    "    return entity_replaced"
   ]
  },
  {
   "cell_type": "code",
   "execution_count": 58,
   "metadata": {},
   "outputs": [],
   "source": [
    "class TextFactory:\n",
    "\n",
    "    def __init__(self, text):\n",
    "        self.raw = text\n",
    "        self._sanitized = None\n",
    "        self._entity_replaced = None\n",
    "        self._sanitized_and_entity_replaced = None\n",
    "\n",
    "    def sanitized(self):\n",
    "        if not self._sanitized:\n",
    "            self._sanitized = preprocess(self.raw)\n",
    "        return self._sanitized\n",
    "    \n",
    "    def entity_replaced(self):\n",
    "        if not self._entity_replaced:\n",
    "            self._entity_replaced = replace_entities(self.raw)\n",
    "        return self._entity_replaced\n",
    "\n",
    "    def typo_corrected(self):\n",
    "        #if not self._typo_corrected:\n",
    "        #    self._typo_corrected = typo_correct(self.raw)\n",
    "        #return self._typo_corrected\n",
    "        pass\n",
    "\n",
    "    def sanitized_and_entity_replaced(self):\n",
    "        if not self._sanitized_and_entity_replaced:\n",
    "            self._sanitized_and_entity_replaced = replace_entities(self.sanitized())\n",
    "        return self._sanitized_and_typo_corrected"
   ]
  },
  {
   "cell_type": "code",
   "execution_count": 59,
   "metadata": {},
   "outputs": [],
   "source": [
    "class ClassifierBuilder:\n",
    "\n",
    "    def __init__(self, query):\n",
    "        self.raw_query = query\n",
    "        self.queries = []\n",
    "        self.classifiers = []\n",
    "    \n",
    "    def add_classifiers_query(self, classifier, query):\n",
    "        self.classifiers.append(classifier)\n",
    "        self.queries.append(query)\n",
    "        return self\n",
    "    \n",
    "    def build(self):\n",
    "        # validation\n",
    "        if not self.classifiers:\n",
    "            raise Exception('Must specify classifiers')\n",
    "        # build\n",
    "        preds = None\n",
    "        for c in self.classifiers:\n",
    "            pred = c.predict(self.raw_query)\n",
    "            if pred != UNK:\n",
    "                return pred\n",
    "        return pred"
   ]
  },
  {
   "cell_type": "code",
   "execution_count": 60,
   "metadata": {},
   "outputs": [],
   "source": [
    "class MyChatbotData:\n",
    "    \n",
    "    def __init__(self, json_obj, text_fld, answers):\n",
    "        dfs = []\n",
    "        for i, (intent, data) in enumerate(json_obj.items()):\n",
    "            # lowercase and remove punctuation\n",
    "            patterns = data[text_fld].copy()\n",
    "            for i, p in enumerate(patterns):\n",
    "                p = p.lower()\n",
    "                patterns[i] = p\n",
    "                answer = answers[intent]\n",
    "            df = pd.DataFrame(list(zip([intent]*len(patterns), patterns, [answer]*len(patterns))), \\\n",
    "                              columns=['intent', 'phrase', 'answer'])\n",
    "            dfs.append(df)\n",
    "        self.df = pd.concat(dfs)\n",
    "    \n",
    "    def get_answer(self, intent):\n",
    "        return pd.unique(self.df[self.df['intent'] == intent]['answer'])[0]\n",
    "    \n",
    "    def remove_punctuation(self, text):\n",
    "        return punct_re_escape.sub('', text)\n",
    "    \n",
    "    def get_phrases(self, intent):\n",
    "        return list(self.df[self.df['intent'] == intent]['phrase'])\n",
    "    \n",
    "    def get_intents(self):\n",
    "        return list(pd.unique(self.df['intent']))\n",
    "    \n",
    "    def show_batch(self, size=5):\n",
    "        return self.df.head(size)\n",
    "    \n",
    "    def __len__(self):\n",
    "        return len(self.df)"
   ]
  },
  {
   "cell_type": "code",
   "execution_count": 61,
   "metadata": {},
   "outputs": [],
   "source": [
    "class ExactMatch:\n",
    "    \n",
    "    def __init__(self, data):\n",
    "        self.data = data\n",
    "\n",
    "    def predict(self, query):\n",
    "        intents = self.data.get_intents()\n",
    "        for i in intents:\n",
    "            phrases = self.data.get_phrases(i)\n",
    "            if query in phrases:\n",
    "                return i\n",
    "        return UNK"
   ]
  },
  {
   "cell_type": "code",
   "execution_count": 62,
   "metadata": {},
   "outputs": [],
   "source": [
    "class FuzzyMatch:\n",
    "\n",
    "    def __init__(self, data):\n",
    "        self.data = data\n",
    "    \n",
    "    def predict(self, query):\n",
    "        intents = self.data.get_intents()\n",
    "        for i in intents:\n",
    "            phrases = self.data.get_phrases(i)\n",
    "            match, score = process.extractOne(query, phrases)\n",
    "            if score > 90:\n",
    "                return chatbot_data.get_answer(i)\n",
    "        return UNK"
   ]
  },
  {
   "cell_type": "code",
   "execution_count": 66,
   "metadata": {},
   "outputs": [],
   "source": [
    "class NaiveBayesMatch:\n",
    "    \n",
    "    def __init__(self, data, model):\n",
    "        self.data = data\n",
    "        self.nb_model = model\n",
    "        \n",
    "    def predict(self, query):\n",
    "        tokenized_query = tokenize_nd_join(query)\n",
    "        pred_prob = nb_model.predict_proba([tokenized_query])\n",
    "        preds_sorted = np.argsort(pred_prob)\n",
    "        top3 = preds_sorted[:,-1],preds_sorted[:,-2],preds_sorted[:,-2]\n",
    "        if pred_prob[0,top3[0]] > (pred_prob[0,top3[1]] + pred_prob[0,top3[2]]):\n",
    "            pred = nb_model.named_steps['clf'].classes_[top3[0]][0]\n",
    "        return pred"
   ]
  },
  {
   "cell_type": "code",
   "execution_count": 64,
   "metadata": {},
   "outputs": [],
   "source": [
    "class DistilBertMatch:\n",
    "    def __init__(self, data, learner):\n",
    "        self.data = data\n",
    "        self.learner = learner\n",
    "    \n",
    "    def predict(self, query):\n",
    "        pred, idx, probs = self.learner.predict(query)\n",
    "        return pred"
   ]
  },
  {
   "cell_type": "code",
   "execution_count": 67,
   "metadata": {},
   "outputs": [],
   "source": [
    "exact_match_classifier = ExactMatch(chatbot_data)\n",
    "fuzzy_match_classifier = FuzzyMatch(chatbot_data)\n",
    "naive_bayes_classifier = NaiveBayesMatch(chatbot_data, nb_model)\n",
    "distil_bert_classifier = DistilBertMatch(chatbot_data, learn)"
   ]
  },
  {
   "cell_type": "code",
   "execution_count": 68,
   "metadata": {},
   "outputs": [],
   "source": [
    "class Predictor:\n",
    "    def __init__(self, query):\n",
    "        self.text_factory = TextFactory(query)\n",
    "        self.pipeline = ClassifierBuilder(query)\n",
    "\n",
    "    def predict(self):\n",
    "        pred = self.pipeline.add_classifiers_query(exact_match_classifier, self.text_factory.raw) \\\n",
    "                            .add_classifiers_query(exact_match_classifier, self.text_factory.sanitized()) \\\n",
    "                            .add_classifiers_query(exact_match_classifier, self.text_factory.entity_replaced()) \\\n",
    "                            .add_classifiers_query(distil_bert_classifier, self.text_factory.raw) \\\n",
    "                            .add_classifiers_query(distil_bert_classifier, self.text_factory.sanitized()) \\\n",
    "                            .add_classifiers_query(distil_bert_classifier, self.text_factory.entity_replaced()) \\\n",
    "                            .add_classifiers_query(fuzzy_match_classifier, self.text_factory.raw) \\\n",
    "                            .build()\n",
    "        return pred"
   ]
  },
  {
   "cell_type": "code",
   "execution_count": 69,
   "metadata": {},
   "outputs": [
    {
     "data": {
      "text/plain": [
       "'hotel.when_is_check_in'"
      ]
     },
     "execution_count": 69,
     "metadata": {},
     "output_type": "execute_result"
    }
   ],
   "source": [
    "predictor = Predictor(\"what time is check-in\")\n",
    "predictor.predict()"
   ]
  },
  {
   "cell_type": "markdown",
   "metadata": {},
   "source": [
    "### Workshop Task 5: Put together a pipeline for your bot (10 min)"
   ]
  },
  {
   "cell_type": "code",
   "execution_count": null,
   "metadata": {},
   "outputs": [],
   "source": []
  }
 ],
 "metadata": {
  "kernelspec": {
   "display_name": "Python 3 (ipykernel)",
   "language": "python",
   "name": "python3"
  },
  "language_info": {
   "codemirror_mode": {
    "name": "ipython",
    "version": 3
   },
   "file_extension": ".py",
   "mimetype": "text/x-python",
   "name": "python",
   "nbconvert_exporter": "python",
   "pygments_lexer": "ipython3",
   "version": "3.11.6"
  }
 },
 "nbformat": 4,
 "nbformat_minor": 4
}
